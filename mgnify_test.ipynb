{
 "cells": [
  {
   "cell_type": "code",
   "execution_count": 15,
   "metadata": {},
   "outputs": [],
   "source": [
    "from protein.pdb_tools import alignment"
   ]
  },
  {
   "cell_type": "code",
   "execution_count": 2,
   "metadata": {},
   "outputs": [],
   "source": [
    "mgnify1 = \"/home/tanghan/MGYP000936678158.pdb\"\n",
    "mgnify2 = \"/home/tanghan/MGYP004000959047.pdb\""
   ]
  },
  {
   "cell_type": "code",
   "execution_count": 1,
   "metadata": {},
   "outputs": [],
   "source": [
    "from protein.pdb_eval import eval\n",
    "#from hirah_tools.protein.pdb_tools import alignment\n",
    "import os\n",
    "from Bio.PDB.PDBIO import PDBIO\n",
    "from Bio import SeqIO\n",
    "from Bio.PDB import PDBList\n",
    "from Bio.PDB import PDBParser\n",
    "import pandas as pd\n",
    "from tqdm import tqdm"
   ]
  },
  {
   "cell_type": "code",
   "execution_count": 4,
   "metadata": {},
   "outputs": [],
   "source": [
    "pdb_mgy1 = \"/home/tanghan/hirah_tools/MGYP000936678158.pdb\"\n",
    "pdb_3h4r = \"/home/tanghan/hirah_tools/3h4r_A.pdb\"\n",
    "eval_machine = eval(pdb_mgy1, pdb_3h4r, lddt_path=\"/home/tanghan/psp-pipeline/pipeline/tool/lddt-linux/lddt\")\n",
    "tm_align_res = eval_machine.tmalign()\n"
   ]
  },
  {
   "cell_type": "code",
   "execution_count": 41,
   "metadata": {},
   "outputs": [],
   "source": []
  },
  {
   "cell_type": "code",
   "execution_count": 49,
   "metadata": {},
   "outputs": [],
   "source": []
  },
  {
   "cell_type": "code",
   "execution_count": 42,
   "metadata": {},
   "outputs": [
    {
     "name": "stdout",
     "output_type": "stream",
     "text": [
      "3 0 97\n"
     ]
    }
   ],
   "source": [
    "overlap, pos_a, pos_b, size = alignment.get_overlap(\"MKSVKYISNMSKQEKGYRVYVNVVNEDTDKGFLFPSVPKEVIENDKIDELFNFEHHKPYVQKAKSRYDKNGIGYKIVQLDEGFQKFIELNKEKMKENLDY\", \"VKYISNMSKQEKGYRVYVNVVNEDTDKGFLFPSVPKEVIENDKIDELFNFEHHKPYVQKAKSRYDKNGIGYKIVQLDEGFQKFIELNKEKMKENLDY\")\n",
    "print(pos_a, pos_b, size)\n"
   ]
  },
  {
   "cell_type": "code",
   "execution_count": null,
   "metadata": {},
   "outputs": [],
   "source": [
    "pdb_pred_path = \"/home/tanghan/OmegaFold/orphan_pred\"\n",
    "retrieve_pdb_path = \"/home/tanghan/PDB\"\n",
    "orphan_ref_path = \"/home/tanghan/OmegaFold/orphan_ref\"\n",
    "\n",
    "alignment_tool = alignment(retrieve_pdb_path, orphan_ref_path, pdb_pred_path)\n",
    "alignment_tool.reindex(\"7ENR\", \"C\", 4)"
   ]
  },
  {
   "cell_type": "code",
   "execution_count": 57,
   "metadata": {},
   "outputs": [],
   "source": [
    "def reindex(pdb, chain_id, init=0):\n",
    "    \n",
    "    parser = PDBParser()\n",
    "    structure = parser.get_structure(\"name\", pdb)\n",
    "    for res in structure[0][chain_id]:\n",
    "        res.id = (' ', init, ' ')\n",
    "        init += 1\n",
    "\n",
    "    io = PDBIO()\n",
    "    io.set_structure(structure[0][chain_id])\n",
    "    io.save(pdb)"
   ]
  },
  {
   "cell_type": "code",
   "execution_count": 83,
   "metadata": {},
   "outputs": [],
   "source": [
    "pred = \"/home/tanghan/orphan_pdbs/7ZWJ_A/model_1_relaxed.pdb\"\n",
    "target = \"/home/tanghan/OmegaFold/orphan_ref/7ZWJ_A.pdb\"\n",
    "#/home/tanghan/OmegaFold/orphan_ref/5OK6_C.pdb"
   ]
  },
  {
   "cell_type": "code",
   "execution_count": 84,
   "metadata": {},
   "outputs": [],
   "source": [
    "reindex(pred, 'A', 0)"
   ]
  },
  {
   "cell_type": "code",
   "execution_count": 85,
   "metadata": {},
   "outputs": [
    {
     "name": "stdout",
     "output_type": "stream",
     "text": [
      "0.387\n",
      "Multi-reference mode: Off\n",
      "Verbosity level: 0\n",
      "Stereo-chemical and steric clash checks: Off \n",
      "Inclusion Radius: 15\n",
      "Sequence separation: 0\n",
      "File: /home/tanghan/orphan_pdbs/7ZWJ_A/model_1_relaxed.pdb\n",
      "Coverage: 1 (17 out of 17 residues)\n",
      "Global LDDT score: 0.387\n",
      "(209 conserved distances out of 540 checked, over 4 thresholds)\n",
      "Local LDDT Scores:\n",
      "Chain\tResName\tResNum\tAsses.\tScore\t(Conserved/Total, over 4 thresholds)\n",
      "A\tSER\t0\tYes\t0.1875\t(12/64)\n",
      "A\tLYS\t1\tYes\t0.2656\t(17/64)\n",
      "A\tLYS\t2\tYes\t0.4062\t(26/64)\n",
      "A\tSER\t3\tYes\t0.4844\t(31/64)\n",
      "A\tLYS\t4\tYes\t0.4375\t(28/64)\n",
      "A\tPRO\t5\tYes\t0.3594\t(23/64)\n",
      "A\tGLY\t6\tYes\t0.3906\t(25/64)\n",
      "A\tASP\t7\tYes\t0.3281\t(21/64)\n",
      "A\tGLY\t8\tYes\t0.4375\t(28/64)\n",
      "A\tILE\t9\tYes\t0.5312\t(34/64)\n",
      "A\tARG\t10\tYes\t0.5333\t(32/60)\n",
      "A\tGLY\t11\tYes\t0.3750\t(24/64)\n",
      "A\tLYS\t12\tYes\t0.4375\t(28/64)\n",
      "A\tGLY\t13\tYes\t0.4531\t(29/64)\n",
      "A\tVAL\t14\tYes\t0.3438\t(22/64)\n",
      "A\tARG\t15\tYes\t0.3125\t(20/64)\n",
      "A\tGLY\t16\tYes\t0.3000\t(18/60)\n",
      "\n",
      "\n"
     ]
    }
   ],
   "source": [
    "pdb_test(pred, target)"
   ]
  },
  {
   "cell_type": "code",
   "execution_count": 33,
   "metadata": {},
   "outputs": [],
   "source": [
    "def pdb_test(pred, target):\n",
    "    eval_machine = eval(pred, target, lddt_path=\"/home/tanghan/psp-pipeline/pipeline/tool/lddt-linux/lddt\")\n",
    "    score, report = eval_machine.lddt()\n",
    "    print(score)\n",
    "    print(report)"
   ]
  },
  {
   "cell_type": "code",
   "execution_count": 51,
   "metadata": {},
   "outputs": [
    {
     "name": "stdout",
     "output_type": "stream",
     "text": [
      "0.7915\n",
      "Multi-reference mode: Off\n",
      "Verbosity level: 0\n",
      "Stereo-chemical and steric clash checks: Off \n",
      "Inclusion Radius: 15\n",
      "Sequence separation: 0\n",
      "File: /home/tanghan/orphan_pdbs/7LVE_A/model_3_relaxed.pdb\n",
      "Coverage: 1 (44 out of 44 residues)\n",
      "Global LDDT score: 0.7915\n",
      "(1773 conserved distances out of 2240 checked, over 4 thresholds)\n",
      "Local LDDT Scores:\n",
      "Chain\tResName\tResNum\tAsses.\tScore\t(Conserved/Total, over 4 thresholds)\n",
      "A\tGLY\t0\tYes\t0.8750\t(28/32)\n",
      "A\tMET\t1\tYes\t0.7143\t(40/56)\n",
      "A\tGLN\t2\tYes\t0.7969\t(51/64)\n",
      "A\tASP\t3\tYes\t0.7361\t(53/72)\n",
      "A\tPRO\t4\tYes\t0.7019\t(73/104)\n",
      "A\tGLN\t5\tYes\t0.7400\t(74/100)\n",
      "A\tGLN\t6\tYes\t0.8438\t(81/96)\n",
      "A\tGLN\t7\tYes\t0.8083\t(97/120)\n",
      "A\tTYR\t8\tYes\t0.7348\t(97/132)\n",
      "A\tHIS\t9\tYes\t0.7823\t(97/124)\n",
      "A\tARG\t10\tYes\t0.7647\t(104/136)\n",
      "A\tCYS\t11\tYes\t0.7059\t(96/136)\n",
      "A\tGLN\t12\tYes\t0.8143\t(114/140)\n",
      "A\tARG\t13\tYes\t0.8276\t(96/116)\n",
      "A\tARG\t14\tYes\t0.7823\t(97/124)\n",
      "A\tCYS\t15\tYes\t0.9167\t(110/120)\n",
      "A\tGLN\t16\tYes\t0.8173\t(85/104)\n",
      "A\tILE\t17\tYes\t0.8370\t(77/92)\n",
      "A\tGLN\t18\tYes\t0.6848\t(63/92)\n",
      "A\tGLU\t19\tYes\t0.9565\t(88/92)\n",
      "A\tGLN\t20\tYes\t0.9265\t(63/68)\n",
      "A\tSER\t21\tYes\t0.8889\t(64/72)\n",
      "A\tPRO\t22\tYes\t0.8333\t(60/72)\n",
      "A\tGLU\t23\tYes\t0.8816\t(67/76)\n",
      "A\tARG\t24\tYes\t0.8261\t(76/92)\n",
      "A\tGLN\t25\tYes\t0.8558\t(89/104)\n",
      "A\tARG\t26\tYes\t0.8500\t(85/100)\n",
      "A\tGLN\t27\tYes\t0.8333\t(90/108)\n",
      "A\tCYS\t28\tYes\t0.8306\t(103/124)\n",
      "A\tGLN\t29\tYes\t0.8359\t(107/128)\n",
      "A\tGLN\t30\tYes\t0.8583\t(103/120)\n",
      "A\tARG\t31\tYes\t0.8309\t(113/136)\n",
      "A\tCYS\t32\tYes\t0.8194\t(118/144)\n",
      "A\tGLU\t33\tYes\t0.7422\t(95/128)\n",
      "A\tARG\t34\tYes\t0.8333\t(90/108)\n",
      "A\tGLN\t35\tYes\t0.7652\t(101/132)\n",
      "A\tTYR\t36\tYes\t0.7188\t(92/128)\n",
      "A\tLYS\t37\tYes\t0.7500\t(75/100)\n",
      "A\tGLU\t38\tYes\t0.7222\t(78/108)\n",
      "A\tGLN\t39\tYes\t0.6481\t(70/108)\n",
      "A\tGLN\t40\tYes\t0.7935\t(73/92)\n",
      "A\tGLY\t41\tYes\t0.6765\t(46/68)\n",
      "A\tARG\t42\tYes\t0.6786\t(38/56)\n",
      "A\tGLU\t43\tYes\t0.5179\t(29/56)\n",
      "A\tARG\t44\tNo\t-\t-\n",
      "A\tGLY\t45\tNo\t-\t-\n",
      "A\tPRO\t46\tNo\t-\t-\n",
      "\n",
      "\n"
     ]
    }
   ],
   "source": []
  },
  {
   "cell_type": "code",
   "execution_count": 35,
   "metadata": {},
   "outputs": [],
   "source": [
    "pdb_mgy2 = \"/home/tanghan/hirah_tools/MGYP004000959047.pdb\"\n",
    "pdb_6bym = \"/home/tanghan/hirah_tools/6bym_A.pdb\"\n",
    "eval_machine = eval(pdb_mgy2, pdb_6bym, lddt_path=\"/home/tanghan/psp-pipeline/pipeline/tool/lddt-linux/lddt\")\n",
    "tm_align_res = eval_machine.tmalign()"
   ]
  },
  {
   "cell_type": "code",
   "execution_count": 36,
   "metadata": {},
   "outputs": [
    {
     "name": "stdout",
     "output_type": "stream",
     "text": [
      "\n",
      " *********************************************************************\n",
      " * TM-align (Version 20220412): protein structure alignment          *\n",
      " * References: Y Zhang, J Skolnick. Nucl Acids Res 33, 2302-9 (2005) *\n",
      " * Please email comments and suggestions to yangzhanglab@umich.edu   *\n",
      " *********************************************************************\n",
      "\n",
      "Name of Chain_1: /home/tanghan/hirah_tools/MGYP004000959047.pdb (to be superimposed onto Chain_2)\n",
      "Name of Chain_2: /home/tanghan/hirah_tools/6bym_A.pdb\n",
      "Length of Chain_1: 168 residues\n",
      "Length of Chain_2: 200 residues\n",
      "\n",
      "Aligned length= 161, RMSD=   2.69, Seq_ID=n_identical/n_aligned= 0.056\n",
      "TM-score= 0.78698 (if normalized by length of Chain_1, i.e., LN=168, d0=4.83)\n",
      "TM-score= 0.67636 (if normalized by length of Chain_2, i.e., LN=200, d0=5.27)\n",
      "(You should use TM-score normalized by length of the reference structure)\n",
      "\n",
      "(\":\" denotes residue pairs of d <  5.0 Angstrom, \".\" denotes other aligned residues)\n",
      "--------------------MKNIK-II-NKFNFNCENFINFISS--KKYYKFLVLNDNDLI-NYNLIFKKLENNI-KKYKIKLKYKKKLPDVIKKVVGNLFSNDVYETVTI-NLN---NLTGEVFLESYCL-EKLSATLSYTYKLVEKDY-GCKQIITYYYES-KFPIISSIIEDNISFELNKKNEIIHNLMIKFFNSNN------\n",
      "                    .:::: :: ::::::::::::::::  ::::::::::::::: ::::..::::.:: :::::: :::::.:::::    . . ::::::::: :::   ::::::::::::. .::::::::::::::::: :::::::::::: ::::::::::::::::::::::::::::::::::::      \n",
      "TLPKMEPSSHAPTEPDIQKDKDDSIIRENENIPAPLGTVVQLLFGSNTEYMQKVITRDKNNVNVETIPKFTPSLVEGGSRHYE-YTKKLNNSIGP----K-Q-TKCLLTESIEHMDINNYVLVTQTTKTPDVPSGSNFAVESKIFLFWGQHDTTNMTVITKINWTSKSFLKGAIEKGSVEGQKVSVDYMLSELRDIISRAKSKKPVK\n",
      "\n",
      "Total CPU time is  0.05 seconds\n",
      "\n"
     ]
    }
   ],
   "source": [
    "print(tm_align_res['report'])"
   ]
  },
  {
   "cell_type": "code",
   "execution_count": 37,
   "metadata": {},
   "outputs": [],
   "source": [
    "\n",
    "pdbl = PDBList()\n",
    "\n",
    "#protein(pd)\n",
    "parser = PDBParser()"
   ]
  },
  {
   "cell_type": "code",
   "execution_count": 38,
   "metadata": {},
   "outputs": [
    {
     "name": "stdout",
     "output_type": "stream",
     "text": [
      "Structure exists: 'PDB/pdb6bym.ent' \n"
     ]
    },
    {
     "data": {
      "text/plain": [
       "'PDB/pdb6bym.ent'"
      ]
     },
     "execution_count": 38,
     "metadata": {},
     "output_type": "execute_result"
    }
   ],
   "source": [
    "pdbl.retrieve_pdb_file(\"6bym\", pdir = 'PDB', file_format = 'pdb')\n"
   ]
  },
  {
   "cell_type": "code",
   "execution_count": 39,
   "metadata": {},
   "outputs": [],
   "source": [
    "alignment_tool = alignment(\"/home/tanghan/hirah_tools/PDB/\", \"/home/tanghan/hirah_tools/\", \"/home/tanghan/\")"
   ]
  },
  {
   "cell_type": "code",
   "execution_count": 40,
   "metadata": {},
   "outputs": [
    {
     "name": "stdout",
     "output_type": "stream",
     "text": [
      "A\n",
      "B\n"
     ]
    },
    {
     "name": "stderr",
     "output_type": "stream",
     "text": [
      "/home/tanghan/.miniconda/lib/python3.8/site-packages/Bio/PDB/StructureBuilder.py:89: PDBConstructionWarning: WARNING: Chain A is discontinuous at line 3470.\n",
      "  warnings.warn(\n",
      "/home/tanghan/.miniconda/lib/python3.8/site-packages/Bio/PDB/StructureBuilder.py:89: PDBConstructionWarning: WARNING: Chain B is discontinuous at line 3545.\n",
      "  warnings.warn(\n",
      "/home/tanghan/.miniconda/lib/python3.8/site-packages/Bio/PDB/StructureBuilder.py:89: PDBConstructionWarning: WARNING: Chain A is discontinuous at line 3620.\n",
      "  warnings.warn(\n",
      "/home/tanghan/.miniconda/lib/python3.8/site-packages/Bio/PDB/StructureBuilder.py:89: PDBConstructionWarning: WARNING: Chain B is discontinuous at line 3698.\n",
      "  warnings.warn(\n"
     ]
    },
    {
     "data": {
      "text/plain": [
       "'2018-01-17'"
      ]
     },
     "execution_count": 40,
     "metadata": {},
     "output_type": "execute_result"
    }
   ],
   "source": [
    "alignment_tool.desire_chain(\"6bym\", \"A\")"
   ]
  }
 ],
 "metadata": {
  "interpreter": {
   "hash": "ba13574078d979d1bbbbde7b63a4e4594565cca4b62fa7552e28550d155671a6"
  },
  "kernelspec": {
   "display_name": "Python 3.8.13 ('base')",
   "language": "python",
   "name": "python3"
  },
  "language_info": {
   "codemirror_mode": {
    "name": "ipython",
    "version": 3
   },
   "file_extension": ".py",
   "mimetype": "text/x-python",
   "name": "python",
   "nbconvert_exporter": "python",
   "pygments_lexer": "ipython3",
   "version": "3.8.13"
  },
  "orig_nbformat": 4
 },
 "nbformat": 4,
 "nbformat_minor": 2
}
