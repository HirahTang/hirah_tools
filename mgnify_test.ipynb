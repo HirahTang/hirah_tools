{
 "cells": [
  {
   "cell_type": "code",
   "execution_count": 1,
   "metadata": {},
   "outputs": [],
   "source": [
    "from protein.pdb_tools import alignment"
   ]
  },
  {
   "cell_type": "code",
   "execution_count": 2,
   "metadata": {},
   "outputs": [],
   "source": [
    "mgnify1 = \"/home/tanghan/MGYP000936678158.pdb\"\n",
    "mgnify2 = \"/home/tanghan/MGYP004000959047.pdb\""
   ]
  },
  {
   "cell_type": "code",
   "execution_count": 3,
   "metadata": {},
   "outputs": [],
   "source": [
    "from protein.pdb_eval import eval\n",
    "#from hirah_tools.protein.pdb_tools import alignment\n",
    "import os\n",
    "from Bio.PDB.PDBIO import PDBIO\n",
    "from Bio import SeqIO\n",
    "from Bio.PDB import PDBList\n",
    "from Bio.PDB import PDBParser\n",
    "import pandas as pd\n",
    "from tqdm import tqdm"
   ]
  },
  {
   "cell_type": "code",
   "execution_count": 4,
   "metadata": {},
   "outputs": [],
   "source": [
    "pdb_mgy1 = \"/home/tanghan/hirah_tools/MGYP000936678158.pdb\"\n",
    "pdb_3h4r = \"/home/tanghan/hirah_tools/3h4r_A.pdb\"\n",
    "eval_machine = eval(pdb_mgy1, pdb_3h4r, lddt_path=\"/home/tanghan/psp-pipeline/pipeline/tool/lddt-linux/lddt\")\n",
    "tm_align_res = eval_machine.tmalign()\n"
   ]
  },
  {
   "cell_type": "code",
   "execution_count": 6,
   "metadata": {},
   "outputs": [
    {
     "name": "stdout",
     "output_type": "stream",
     "text": [
      "\n",
      " *********************************************************************\n",
      " * TM-align (Version 20220412): protein structure alignment          *\n",
      " * References: Y Zhang, J Skolnick. Nucl Acids Res 33, 2302-9 (2005) *\n",
      " * Please email comments and suggestions to yangzhanglab@umich.edu   *\n",
      " *********************************************************************\n",
      "\n",
      "Name of Chain_1: /home/tanghan/hirah_tools/MGYP000936678158.pdb (to be superimposed onto Chain_2)\n",
      "Name of Chain_2: /home/tanghan/hirah_tools/3h4r_A.pdb\n",
      "Length of Chain_1: 182 residues\n",
      "Length of Chain_2: 219 residues\n",
      "\n",
      "Aligned length= 165, RMSD=   3.73, Seq_ID=n_identical/n_aligned= 0.164\n",
      "TM-score= 0.68181 (if normalized by length of Chain_1, i.e., LN=182, d0=5.03)\n",
      "TM-score= 0.58437 (if normalized by length of Chain_2, i.e., LN=219, d0=5.50)\n",
      "(You should use TM-score normalized by length of the reference structure)\n",
      "\n",
      "(\":\" denotes residue pairs of d <  5.0 Angstrom, \".\" denotes other aligned residues)\n",
      "MEKQLAFSWSILNSWVNYSQEDAINMFLKKPIKRDPQVQAKLDKGSEIHEKIEKQG---------------L--VF----VPDL-ATGGKREVYSRVQMT-DWLWFSYKFDYYV--DKNMVDYKSG-S---F---KD--GMELQLFAYALCGEMDGFETDRGHLVFVKETKKDGI----KPVDIKSYDIGGAQLNAAWDFIYTNAKEMKNYLLLHKLWSV----------------\n",
      "    .:::::::::::: .:::::::  :::.:.... ....:::::::::::::.               .  ..    :::: ::::::::::::::: .::::::::::::  :::::::::: .   :   ::  :::::::::::::::::.:::::::::::...        ..::::::... .: .::::::::::::::::::::..                   \n",
      "----PGISKSQLDDIAD-TPALYLWR--KNAPVDTTK-TKTLDLGTAFHCRVLELEEFSNRAEEGRKIELMYQSVMALPLGQWLVESAGHAESSIYWEDPETGILCRCRPDKIIPEFHWIMDVKTTADIQRFKTAYYDYRYHVQDAFYSDGYEAQFGVQPTFVFLVASTTI----ECGRYPVEIFMMGEE-AK-LAGQQEYHRNLRTLSDCLNTDEW---PAIKTLSLPRWAKEYA\n",
      "\n",
      "Total CPU time is  0.06 seconds\n",
      "\n"
     ]
    }
   ],
   "source": [
    "print(tm_align_res['report'])"
   ]
  },
  {
   "cell_type": "code",
   "execution_count": 7,
   "metadata": {},
   "outputs": [],
   "source": [
    "pdb_mgy2 = \"/home/tanghan/hirah_tools/MGYP004000959047.pdb\"\n",
    "pdb_6bym = \"/home/tanghan/hirah_tools/6bym_A.pdb\"\n",
    "eval_machine = eval(pdb_mgy2, pdb_6bym, lddt_path=\"/home/tanghan/psp-pipeline/pipeline/tool/lddt-linux/lddt\")\n",
    "tm_align_res = eval_machine.tmalign()"
   ]
  },
  {
   "cell_type": "code",
   "execution_count": 9,
   "metadata": {},
   "outputs": [
    {
     "name": "stdout",
     "output_type": "stream",
     "text": [
      "\n",
      " *********************************************************************\n",
      " * TM-align (Version 20220412): protein structure alignment          *\n",
      " * References: Y Zhang, J Skolnick. Nucl Acids Res 33, 2302-9 (2005) *\n",
      " * Please email comments and suggestions to yangzhanglab@umich.edu   *\n",
      " *********************************************************************\n",
      "\n",
      "Name of Chain_1: /home/tanghan/hirah_tools/MGYP004000959047.pdb (to be superimposed onto Chain_2)\n",
      "Name of Chain_2: /home/tanghan/hirah_tools/6bym_A.pdb\n",
      "Length of Chain_1: 168 residues\n",
      "Length of Chain_2: 200 residues\n",
      "\n",
      "Aligned length= 161, RMSD=   2.69, Seq_ID=n_identical/n_aligned= 0.056\n",
      "TM-score= 0.78698 (if normalized by length of Chain_1, i.e., LN=168, d0=4.83)\n",
      "TM-score= 0.67636 (if normalized by length of Chain_2, i.e., LN=200, d0=5.27)\n",
      "(You should use TM-score normalized by length of the reference structure)\n",
      "\n",
      "(\":\" denotes residue pairs of d <  5.0 Angstrom, \".\" denotes other aligned residues)\n",
      "--------------------MKNIK-II-NKFNFNCENFINFISS--KKYYKFLVLNDNDLI-NYNLIFKKLENNI-KKYKIKLKYKKKLPDVIKKVVGNLFSNDVYETVTI-NLN---NLTGEVFLESYCL-EKLSATLSYTYKLVEKDY-GCKQIITYYYES-KFPIISSIIEDNISFELNKKNEIIHNLMIKFFNSNN------\n",
      "                    .:::: :: ::::::::::::::::  ::::::::::::::: ::::..::::.:: :::::: :::::.:::::    . . ::::::::: :::   ::::::::::::. .::::::::::::::::: :::::::::::: ::::::::::::::::::::::::::::::::::::      \n",
      "TLPKMEPSSHAPTEPDIQKDKDDSIIRENENIPAPLGTVVQLLFGSNTEYMQKVITRDKNNVNVETIPKFTPSLVEGGSRHYE-YTKKLNNSIGP----K-Q-TKCLLTESIEHMDINNYVLVTQTTKTPDVPSGSNFAVESKIFLFWGQHDTTNMTVITKINWTSKSFLKGAIEKGSVEGQKVSVDYMLSELRDIISRAKSKKPVK\n",
      "\n",
      "Total CPU time is  0.05 seconds\n",
      "\n"
     ]
    }
   ],
   "source": [
    "print(tm_align_res['report'])"
   ]
  },
  {
   "cell_type": "code",
   "execution_count": 7,
   "metadata": {},
   "outputs": [],
   "source": [
    "\n",
    "pdbl = PDBList()\n",
    "\n",
    "#protein(pd)\n",
    "parser = PDBParser()"
   ]
  },
  {
   "cell_type": "code",
   "execution_count": 11,
   "metadata": {},
   "outputs": [
    {
     "name": "stdout",
     "output_type": "stream",
     "text": [
      "Downloading PDB structure '6bym'...\n"
     ]
    },
    {
     "data": {
      "text/plain": [
       "'PDB/pdb6bym.ent'"
      ]
     },
     "execution_count": 11,
     "metadata": {},
     "output_type": "execute_result"
    }
   ],
   "source": [
    "pdbl.retrieve_pdb_file(\"6bym\", pdir = 'PDB', file_format = 'pdb')\n"
   ]
  },
  {
   "cell_type": "code",
   "execution_count": 9,
   "metadata": {},
   "outputs": [],
   "source": [
    "alignment_tool = alignment(\"/home/tanghan/hirah_tools/PDB/\", \"/home/tanghan/hirah_tools/\", \"/home/tanghan/\")"
   ]
  },
  {
   "cell_type": "code",
   "execution_count": 12,
   "metadata": {},
   "outputs": [
    {
     "name": "stdout",
     "output_type": "stream",
     "text": [
      "A\n",
      "B\n"
     ]
    },
    {
     "name": "stderr",
     "output_type": "stream",
     "text": [
      "/home/tanghan/.miniconda/lib/python3.8/site-packages/Bio/PDB/StructureBuilder.py:89: PDBConstructionWarning: WARNING: Chain A is discontinuous at line 3470.\n",
      "  warnings.warn(\n",
      "/home/tanghan/.miniconda/lib/python3.8/site-packages/Bio/PDB/StructureBuilder.py:89: PDBConstructionWarning: WARNING: Chain B is discontinuous at line 3545.\n",
      "  warnings.warn(\n",
      "/home/tanghan/.miniconda/lib/python3.8/site-packages/Bio/PDB/StructureBuilder.py:89: PDBConstructionWarning: WARNING: Chain A is discontinuous at line 3620.\n",
      "  warnings.warn(\n",
      "/home/tanghan/.miniconda/lib/python3.8/site-packages/Bio/PDB/StructureBuilder.py:89: PDBConstructionWarning: WARNING: Chain B is discontinuous at line 3698.\n",
      "  warnings.warn(\n"
     ]
    }
   ],
   "source": [
    "alignment_tool.desire_chain(\"6bym\", \"A\")"
   ]
  }
 ],
 "metadata": {
  "interpreter": {
   "hash": "ba13574078d979d1bbbbde7b63a4e4594565cca4b62fa7552e28550d155671a6"
  },
  "kernelspec": {
   "display_name": "Python 3.8.13 ('base')",
   "language": "python",
   "name": "python3"
  },
  "language_info": {
   "codemirror_mode": {
    "name": "ipython",
    "version": 3
   },
   "file_extension": ".py",
   "mimetype": "text/x-python",
   "name": "python",
   "nbconvert_exporter": "python",
   "pygments_lexer": "ipython3",
   "version": "3.8.13"
  },
  "orig_nbformat": 4
 },
 "nbformat": 4,
 "nbformat_minor": 2
}
